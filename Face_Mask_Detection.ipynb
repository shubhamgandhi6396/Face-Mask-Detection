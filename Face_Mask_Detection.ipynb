{
 "cells": [
  {
   "cell_type": "markdown",
   "metadata": {},
   "source": [
    "#### All Imports"
   ]
  },
  {
   "cell_type": "code",
   "execution_count": 1,
   "metadata": {},
   "outputs": [
    {
     "name": "stderr",
     "output_type": "stream",
     "text": [
      "Using TensorFlow backend.\n"
     ]
    }
   ],
   "source": [
    "import os\n",
    "import cv2\n",
    "import dlib\n",
    "import sys\n",
    "from collections import OrderedDict\n",
    "import imutils\n",
    "from imutils import face_utils\n",
    "import numpy as np\n",
    "import pandas as pd\n",
    "import matplotlib.pyplot as plt\n",
    "from keras.layers import *\n",
    "from keras.models import Model, load_model\n",
    "from keras.callbacks import TensorBoard, ModelCheckpoint\n",
    "from sklearn.model_selection import train_test_split\n",
    "from sklearn.utils import shuffle\n",
    "from keras.utils import to_categorical\n",
    "from sklearn.metrics import confusion_matrix, precision_score, recall_score, classification_report,accuracy_score, f1_score, roc_auc_score, roc_curve, auc\n",
    "import tensorflow as tf"
   ]
  },
  {
   "cell_type": "markdown",
   "metadata": {},
   "source": [
    "### Utility Functions"
   ]
  },
  {
   "cell_type": "code",
   "execution_count": 53,
   "metadata": {},
   "outputs": [],
   "source": [
    "def read_image_dataset(img_path):\n",
    "    \"\"\"\n",
    "    Input Params: Path to images\n",
    "    Returns a list of image paths which will be our dataset.\n",
    "    \"\"\"\n",
    "\n",
    "    w = \"with_mask\"\n",
    "    wo = \"without_mask\"\n",
    "    with_mask = os.listdir(os.path.join(img_path, w))\n",
    "    without_mask = os.listdir(os.path.join(img_path, wo))\n",
    "    images = [os.path.join(img_path, w, name) for name in with_mask if \".jpg\" in name or \".png\" in name][:3000] # Considering 3000 Images for both classes.\n",
    "    images.extend([os.path.join(img_path, wo, name) for name in without_mask if \".jpg\" in name or \".png\" in name][:3000])\n",
    "    \n",
    "    return images"
   ]
  },
  {
   "cell_type": "code",
   "execution_count": 54,
   "metadata": {},
   "outputs": [],
   "source": [
    "def get_cascades():\n",
    "    # Create Cascade Classifiers for face, eyes, nose and mouth from Opencv Haarcascade classifiers\n",
    "    face_cascade = cv2.CascadeClassifier(cv2.data.haarcascades + 'haarcascade_frontalface_default.xml')\n",
    "    eye_cascade = cv2.CascadeClassifier(cv2.data.haarcascades + 'haarcascade_eye.xml')\n",
    "    nose_cascade = cv2.CascadeClassifier(cv2.data.haarcascades + 'haarcascade_nose.xml')\n",
    "    mouth_cascade = cv2.CascadeClassifier(cv2.data.haarcascades + 'haarcascade_mcs_mouth.xml')\n",
    "    \n",
    "    return face_cascade, eye_cascade, nose_cascade, mouth_cascade"
   ]
  },
  {
   "cell_type": "code",
   "execution_count": 55,
   "metadata": {},
   "outputs": [],
   "source": [
    "def create_dataset(images):\n",
    "    \"\"\"\n",
    "    Creates and Returns Dataset X, Y where X contains training images (96, 96, 3) along with 3 additional features - eyes, nose and mouth (1 indicates feature is present in image)\n",
    "    and Y is the label (1 for with_mask, 0 for without mask)\n",
    "    \"\"\"\n",
    "    \n",
    "    # Add all features to this list, and create a df from it later\n",
    "    feature_list = []\n",
    "    for i in range(len(images)):\n",
    "        temp = []\n",
    "        image = images[i]\n",
    "\n",
    "        img = cv2.imread(image)\n",
    "\n",
    "        img_gray = cv2.cvtColor(img, cv2.COLOR_BGR2GRAY)\n",
    "        \n",
    "        # Create cascade classifiers\n",
    "        face_cascade, eye_cascade, nose_cascade, mouth_cascade = get_cascades()\n",
    "        \n",
    "        # Detect eys, nose and mouth in image\n",
    "        eyes = eye_cascade.detectMultiScale(img_gray, 1.2, 4)\n",
    "        nose = nose_cascade.detectMultiScale(img_gray, 1.3, 5)\n",
    "        mouth = mouth_cascade.detectMultiScale(img_gray, 1.5, 11)\n",
    "\n",
    "        # Resize image to 96, 96 which is the input shape for our CNN\n",
    "        img_gray = cv2.resize(img_gray, (96, 96), interpolation = cv2.INTER_AREA)\n",
    "        \n",
    "        \n",
    "        img = cv2.resize(img, (96, 96), interpolation = cv2.INTER_AREA)\n",
    "\n",
    "        temp.append(img)\n",
    "        temp.append(img_gray)\n",
    "\n",
    "        # Check if features are detected in image\n",
    "        if len(eyes) > 0:\n",
    "            temp.append(1)\n",
    "        else:\n",
    "            temp.append(0)\n",
    "\n",
    "\n",
    "        if len(nose) > 0:\n",
    "            temp.append(1)\n",
    "        else:\n",
    "            temp.append(0)\n",
    "\n",
    "\n",
    "        if len(mouth) > 0:\n",
    "            temp.append(1)\n",
    "        else:\n",
    "            temp.append(0)\n",
    "\n",
    "        # Adding labels as last column.\n",
    "        if i < 3000:\n",
    "            temp.append(1)\n",
    "        else:\n",
    "            temp.append(0)\n",
    "            \n",
    "        # Add the list temp containing current image features to feature list\n",
    "        feature_list.append(temp[:])\n",
    "        if i % 500 == 0:\n",
    "            print(\"Iteration: \", i)\n",
    "            \n",
    "    # Creating Dataframe from feature list\n",
    "    face_mask_df = pd.DataFrame(feature_list, columns = [\"Image\", \"Gray\", \"Eyes\", \"Nose\", \"Mouth\", \"Target\"])\n",
    "    \n",
    "    #Shuffling Rows\n",
    "    face_mask_df = face_mask_df.sample(frac=1).reset_index(drop=True)\n",
    "    \n",
    "    # Creating X and T arrays\n",
    "    X_image = np.stack(np.array(face_mask_df.iloc[:,0]))\n",
    "    print(X_image.shape)\n",
    "\n",
    "    T_image = np.array(face_mask_df.iloc[:,-1].values)\n",
    "    print(T_image.shape)\n",
    "    \n",
    "    X_feat = np.stack(np.array(face_mask_df.iloc[:,2:5]))\n",
    "    print(X_feat.shape)\n",
    "\n",
    "    T_feat = np.array(face_mask_df.iloc[:,-1].values)\n",
    "    print(T_feat.shape)\n",
    "    \n",
    "    # Normalize X_image (0 - 1)\n",
    "    X_image = X_image / 255.\n",
    "    \n",
    "    #One hot encode Labels\n",
    "    T = to_categorical(T_image)\n",
    "    \n",
    "    return X_image, X_feat, T"
   ]
  },
  {
   "cell_type": "code",
   "execution_count": 56,
   "metadata": {},
   "outputs": [],
   "source": [
    "def merged_CNN_model(image_input, facial_features):\n",
    "    \"\"\"\n",
    "    Input Params: image input shape, additional input shape\n",
    "    Creates and returns a Keras Model with given input shapes. First two layers are convolutional layers, which is then concatenated with additional input layer.\n",
    "    Thus, additional input features can be passed to the model in training along with images.\n",
    "    \"\"\"\n",
    "    \n",
    "    conv_1 = Conv2D(64, (3,3), activation='relu')(image_input)\n",
    "    conv_1 = MaxPooling2D(2,2)(conv_1)\n",
    "\n",
    "    conv_2 = Conv2D(64, (3,3), activation='relu')(conv_1)\n",
    "    conv_2 = MaxPooling2D(2,2)(conv_2)\n",
    "\n",
    "    output_1 = Flatten()(conv_2)\n",
    "    output_1 = Dropout(0.5)(output_1)\n",
    "\n",
    "    # Use keras' concatenate to add additional input features to the model\n",
    "    merged_model = concatenate([output_1, facial_features])\n",
    "    \n",
    "    hidden = Dense(64, activation='relu')(merged_model)\n",
    "    final_output = Dense(2, activation='softmax')(hidden)\n",
    "\n",
    "    \n",
    "    model = Model(inputs=[image_input, facial_features], outputs=final_output)\n",
    "    \n",
    "    \n",
    "    model.summary()\n",
    "    model.compile(optimizer='adam', loss='categorical_crossentropy', metrics=['acc'])\n",
    "    \n",
    "    return model"
   ]
  },
  {
   "cell_type": "code",
   "execution_count": 57,
   "metadata": {},
   "outputs": [],
   "source": [
    "def baseline_model(image_input):\n",
    "    \"\"\"\n",
    "    Input Params: image input shape\n",
    "    Creates and returns a Keras Model with given input shape. First two layers are convolutional layers.\n",
    "    \"\"\"\n",
    "    \n",
    "    conv_1 = Conv2D(64, (3,3), activation='relu')(image_input)\n",
    "    conv_1 = MaxPooling2D(2,2)(conv_1)\n",
    "\n",
    "    conv_2 = Conv2D(64, (3,3), activation='relu')(conv_1)\n",
    "    conv_2 = MaxPooling2D(2,2)(conv_2)\n",
    "\n",
    "    output_1 = Flatten()(conv_2)\n",
    "    output_1 = Dropout(0.5)(output_1)\n",
    "\n",
    "    # Use keras' concatenate to add additional input features to the model\n",
    "    \n",
    "    hidden = Dense(64, activation='relu')(output_1)\n",
    "    final_output = Dense(2, activation='softmax')(hidden)\n",
    "\n",
    "    \n",
    "    model = Model(inputs=image_input, outputs=final_output)\n",
    "    \n",
    "    \n",
    "    model.summary()\n",
    "    model.compile(optimizer='adam', loss='categorical_crossentropy', metrics=['acc'])\n",
    "    \n",
    "    return model"
   ]
  },
  {
   "cell_type": "code",
   "execution_count": 58,
   "metadata": {},
   "outputs": [],
   "source": [
    "def plot_losses(N, history):\n",
    "    \"\"\"\n",
    "    Input Params: N - Number of Epochs the model is trained for, history - history of training returned by model.fit() \n",
    "    \"\"\"\n",
    "    plt.style.use(\"ggplot\")\n",
    "    plt.figure()\n",
    "    \n",
    "    # Plot losses and accuracies for both training and validation\n",
    "    plt.plot(np.arange(0, N), history.history[\"loss\"], label=\"train_loss\")\n",
    "    plt.plot(np.arange(0, N), history.history[\"val_loss\"], label=\"val_loss\")\n",
    "    plt.plot(np.arange(0, N), history.history[\"acc\"], label=\"train_acc\")\n",
    "    plt.plot(np.arange(0, N), history.history[\"val_acc\"], label=\"val_acc\")\n",
    "    plt.title(\"Training Loss and Accuracy\")\n",
    "    plt.xlabel(\"Epoch #\")\n",
    "    plt.ylabel(\"Loss/Accuracy\")\n",
    "    plt.legend()"
   ]
  },
  {
   "cell_type": "markdown",
   "metadata": {},
   "source": [
    "### Create Dataset from Images"
   ]
  },
  {
   "cell_type": "code",
   "execution_count": 9,
   "metadata": {},
   "outputs": [
    {
     "name": "stdout",
     "output_type": "stream",
     "text": [
      "Iteration:  0\n",
      "Iteration:  500\n",
      "Iteration:  1000\n",
      "Iteration:  1500\n",
      "Iteration:  2000\n",
      "Iteration:  2500\n",
      "Iteration:  3000\n",
      "Iteration:  3500\n",
      "Iteration:  4000\n",
      "Iteration:  4500\n",
      "Iteration:  5000\n",
      "Iteration:  5500\n",
      "(6000, 96, 96, 3)\n",
      "(6000,)\n",
      "(6000, 3)\n",
      "(6000,)\n"
     ]
    }
   ],
   "source": [
    "img_path = \"C:\\\\Users\\\\mihir\\\\Machine Learning\\\\Project\\\\Face_Mask_Detection\\\\Data\"\n",
    "\n",
    "images = read_image_dataset(img_path)\n",
    "\n",
    "X_image, X_feat, T = create_dataset(images)"
   ]
  },
  {
   "cell_type": "markdown",
   "metadata": {},
   "source": [
    "### Split into Training and Testing sets for both image and additional features"
   ]
  },
  {
   "cell_type": "code",
   "execution_count": 10,
   "metadata": {},
   "outputs": [],
   "source": [
    "X_image_train, X_image_test, Y_image_train, Y_image_test = train_test_split(X_image, T, test_size=0.25, random_state=50)\n",
    "X_feat_train, X_feat_test, Y_feat_train, Y_feat_test = train_test_split(X_feat, T, test_size=0.25, random_state=50)"
   ]
  },
  {
   "cell_type": "markdown",
   "metadata": {},
   "source": [
    "#### Define Input Shapes"
   ]
  },
  {
   "cell_type": "code",
   "execution_count": null,
   "metadata": {},
   "outputs": [],
   "source": [
    "image_input = Input(shape=(96, 96, 3))\n",
    "\n",
    "# Some more input data with 3 features\n",
    "facial_features = Input(shape=(3,))"
   ]
  },
  {
   "cell_type": "markdown",
   "metadata": {},
   "source": [
    "### Final Model with Image + Additional Feature input"
   ]
  },
  {
   "cell_type": "code",
   "execution_count": 62,
   "metadata": {},
   "outputs": [
    {
     "name": "stdout",
     "output_type": "stream",
     "text": [
      "Model: \"model_5\"\n",
      "__________________________________________________________________________________________________\n",
      "Layer (type)                    Output Shape         Param #     Connected to                     \n",
      "==================================================================================================\n",
      "input_1 (InputLayer)            (None, 96, 96, 3)    0                                            \n",
      "__________________________________________________________________________________________________\n",
      "conv2d_9 (Conv2D)               (None, 94, 94, 64)   1792        input_1[0][0]                    \n",
      "__________________________________________________________________________________________________\n",
      "max_pooling2d_9 (MaxPooling2D)  (None, 47, 47, 64)   0           conv2d_9[0][0]                   \n",
      "__________________________________________________________________________________________________\n",
      "conv2d_10 (Conv2D)              (None, 45, 45, 64)   36928       max_pooling2d_9[0][0]            \n",
      "__________________________________________________________________________________________________\n",
      "max_pooling2d_10 (MaxPooling2D) (None, 22, 22, 64)   0           conv2d_10[0][0]                  \n",
      "__________________________________________________________________________________________________\n",
      "flatten_5 (Flatten)             (None, 30976)        0           max_pooling2d_10[0][0]           \n",
      "__________________________________________________________________________________________________\n",
      "dropout_5 (Dropout)             (None, 30976)        0           flatten_5[0][0]                  \n",
      "__________________________________________________________________________________________________\n",
      "input_2 (InputLayer)            (None, 3)            0                                            \n",
      "__________________________________________________________________________________________________\n",
      "concatenate_2 (Concatenate)     (None, 30979)        0           dropout_5[0][0]                  \n",
      "                                                                 input_2[0][0]                    \n",
      "__________________________________________________________________________________________________\n",
      "dense_9 (Dense)                 (None, 64)           1982720     concatenate_2[0][0]              \n",
      "__________________________________________________________________________________________________\n",
      "dense_10 (Dense)                (None, 2)            130         dense_9[0][0]                    \n",
      "==================================================================================================\n",
      "Total params: 2,021,570\n",
      "Trainable params: 2,021,570\n",
      "Non-trainable params: 0\n",
      "__________________________________________________________________________________________________\n"
     ]
    }
   ],
   "source": [
    "merged_model = merged_CNN_model(image_input, facial_features)"
   ]
  },
  {
   "cell_type": "code",
   "execution_count": 12,
   "metadata": {},
   "outputs": [
    {
     "name": "stdout",
     "output_type": "stream",
     "text": [
      "Model: \"model_1\"\n",
      "__________________________________________________________________________________________________\n",
      "Layer (type)                    Output Shape         Param #     Connected to                     \n",
      "==================================================================================================\n",
      "input_1 (InputLayer)            (None, 96, 96, 3)    0                                            \n",
      "__________________________________________________________________________________________________\n",
      "conv2d_1 (Conv2D)               (None, 94, 94, 64)   1792        input_1[0][0]                    \n",
      "__________________________________________________________________________________________________\n",
      "max_pooling2d_1 (MaxPooling2D)  (None, 47, 47, 64)   0           conv2d_1[0][0]                   \n",
      "__________________________________________________________________________________________________\n",
      "conv2d_2 (Conv2D)               (None, 45, 45, 64)   36928       max_pooling2d_1[0][0]            \n",
      "__________________________________________________________________________________________________\n",
      "max_pooling2d_2 (MaxPooling2D)  (None, 22, 22, 64)   0           conv2d_2[0][0]                   \n",
      "__________________________________________________________________________________________________\n",
      "flatten_1 (Flatten)             (None, 30976)        0           max_pooling2d_2[0][0]            \n",
      "__________________________________________________________________________________________________\n",
      "dropout_1 (Dropout)             (None, 30976)        0           flatten_1[0][0]                  \n",
      "__________________________________________________________________________________________________\n",
      "input_2 (InputLayer)            (None, 3)            0                                            \n",
      "__________________________________________________________________________________________________\n",
      "concatenate_1 (Concatenate)     (None, 30979)        0           dropout_1[0][0]                  \n",
      "                                                                 input_2[0][0]                    \n",
      "__________________________________________________________________________________________________\n",
      "dense_1 (Dense)                 (None, 64)           1982720     concatenate_1[0][0]              \n",
      "__________________________________________________________________________________________________\n",
      "dense_2 (Dense)                 (None, 2)            130         dense_1[0][0]                    \n",
      "==================================================================================================\n",
      "Total params: 2,021,570\n",
      "Trainable params: 2,021,570\n",
      "Non-trainable params: 0\n",
      "__________________________________________________________________________________________________\n",
      "Model: \"model_2\"\n",
      "_________________________________________________________________\n",
      "Layer (type)                 Output Shape              Param #   \n",
      "=================================================================\n",
      "input_1 (InputLayer)         (None, 96, 96, 3)         0         \n",
      "_________________________________________________________________\n",
      "conv2d_3 (Conv2D)            (None, 94, 94, 64)        1792      \n",
      "_________________________________________________________________\n",
      "max_pooling2d_3 (MaxPooling2 (None, 47, 47, 64)        0         \n",
      "_________________________________________________________________\n",
      "conv2d_4 (Conv2D)            (None, 45, 45, 64)        36928     \n",
      "_________________________________________________________________\n",
      "max_pooling2d_4 (MaxPooling2 (None, 22, 22, 64)        0         \n",
      "_________________________________________________________________\n",
      "flatten_2 (Flatten)          (None, 30976)             0         \n",
      "_________________________________________________________________\n",
      "dropout_2 (Dropout)          (None, 30976)             0         \n",
      "_________________________________________________________________\n",
      "dense_3 (Dense)              (None, 64)                1982528   \n",
      "_________________________________________________________________\n",
      "dense_4 (Dense)              (None, 2)                 130       \n",
      "=================================================================\n",
      "Total params: 2,021,378\n",
      "Trainable params: 2,021,378\n",
      "Non-trainable params: 0\n",
      "_________________________________________________________________\n"
     ]
    }
   ],
   "source": [
    "model = baseline_model(image_input)"
   ]
  },
  {
   "cell_type": "markdown",
   "metadata": {},
   "source": [
    "### Train model for 20 epcochs"
   ]
  },
  {
   "cell_type": "code",
   "execution_count": 63,
   "metadata": {},
   "outputs": [
    {
     "name": "stdout",
     "output_type": "stream",
     "text": [
      "Train on 3375 samples, validate on 1125 samples\n",
      "Epoch 1/20\n",
      "3375/3375 [==============================] - 41s 12ms/step - loss: 0.0862 - acc: 0.9641 - val_loss: 0.0176 - val_acc: 0.9964\n",
      "Epoch 2/20\n",
      "3375/3375 [==============================] - 40s 12ms/step - loss: 0.0027 - acc: 0.9994 - val_loss: 4.7030e-06 - val_acc: 1.0000\n",
      "Epoch 3/20\n",
      "3375/3375 [==============================] - 40s 12ms/step - loss: 5.1294e-06 - acc: 1.0000 - val_loss: 1.1478e-06 - val_acc: 1.0000\n",
      "Epoch 4/20\n",
      "3375/3375 [==============================] - 40s 12ms/step - loss: 1.2368e-06 - acc: 1.0000 - val_loss: 8.5625e-07 - val_acc: 1.0000\n",
      "Epoch 5/20\n",
      "3375/3375 [==============================] - 40s 12ms/step - loss: 3.1551e-06 - acc: 1.0000 - val_loss: 2.9170e-06 - val_acc: 1.0000\n",
      "Epoch 6/20\n",
      "3375/3375 [==============================] - 41s 12ms/step - loss: 1.6946e-06 - acc: 1.0000 - val_loss: 4.1959e-07 - val_acc: 1.0000\n",
      "Epoch 7/20\n",
      "3375/3375 [==============================] - 41s 12ms/step - loss: 1.0556e-06 - acc: 1.0000 - val_loss: 3.1503e-07 - val_acc: 1.0000\n",
      "Epoch 8/20\n",
      "3375/3375 [==============================] - 40s 12ms/step - loss: 3.7514e-07 - acc: 1.0000 - val_loss: 2.4742e-07 - val_acc: 1.0000\n",
      "Epoch 9/20\n",
      "3375/3375 [==============================] - 40s 12ms/step - loss: 3.7980e-07 - acc: 1.0000 - val_loss: 2.1171e-07 - val_acc: 1.0000\n",
      "Epoch 10/20\n",
      "3375/3375 [==============================] - 40s 12ms/step - loss: 2.9072e-07 - acc: 1.0000 - val_loss: 1.8957e-07 - val_acc: 1.0000\n",
      "Epoch 11/20\n",
      "3375/3375 [==============================] - 40s 12ms/step - loss: 3.6700e-07 - acc: 1.0000 - val_loss: 1.6572e-07 - val_acc: 1.0000\n",
      "Epoch 12/20\n",
      "3375/3375 [==============================] - 42s 12ms/step - loss: 3.0887e-07 - acc: 1.0000 - val_loss: 1.3648e-07 - val_acc: 1.0000\n",
      "Epoch 13/20\n",
      "3375/3375 [==============================] - 40s 12ms/step - loss: 2.2216e-07 - acc: 1.0000 - val_loss: 1.2069e-07 - val_acc: 1.0000\n",
      "Epoch 14/20\n",
      "3375/3375 [==============================] - 41s 12ms/step - loss: 2.1316e-07 - acc: 1.0000 - val_loss: 1.0798e-07 - val_acc: 1.0000\n",
      "Epoch 15/20\n",
      "3375/3375 [==============================] - 41s 12ms/step - loss: 2.9642e-07 - acc: 1.0000 - val_loss: 9.2188e-08 - val_acc: 1.0000\n",
      "Epoch 16/20\n",
      "3375/3375 [==============================] - 43s 13ms/step - loss: 1.4711e-07 - acc: 1.0000 - val_loss: 9.2399e-08 - val_acc: 1.0000\n",
      "Epoch 17/20\n",
      "3375/3375 [==============================] - 41s 12ms/step - loss: 9.8473e-08 - acc: 1.0000 - val_loss: 7.9684e-08 - val_acc: 1.0000\n",
      "Epoch 18/20\n",
      "3375/3375 [==============================] - 40s 12ms/step - loss: 1.2016e-07 - acc: 1.0000 - val_loss: 7.2055e-08 - val_acc: 1.0000\n",
      "Epoch 19/20\n",
      "3375/3375 [==============================] - 40s 12ms/step - loss: 7.4881e-08 - acc: 1.0000 - val_loss: 6.8558e-08 - val_acc: 1.0000\n",
      "Epoch 20/20\n",
      "3375/3375 [==============================] - 40s 12ms/step - loss: 1.4406e-07 - acc: 1.0000 - val_loss: 6.0505e-08 - val_acc: 1.0000\n"
     ]
    }
   ],
   "source": [
    "historyCNN = merged_model.fit([X_image_train, X_feat_train], Y_image_train, epochs=20, validation_split=0.25)"
   ]
  },
  {
   "cell_type": "code",
   "execution_count": 14,
   "metadata": {},
   "outputs": [
    {
     "data": {
      "image/png": "[encoded data removed]",
      "text/plain": [
       "<Figure size 432x288 with 1 Axes>"
      ]
     },
     "metadata": {},
     "output_type": "display_data"
    }
   ],
   "source": [
    "epochs = 10\n",
    "\n",
    "# Plot training and validation losses\n",
    "plot_losses(epochs, historyCNN)"
   ]
  },
  {
   "cell_type": "markdown",
   "metadata": {},
   "source": [
    "### Accuracy on Test set"
   ]
  },
  {
   "cell_type": "code",
   "execution_count": 15,
   "metadata": {},
   "outputs": [
    {
     "data": {
      "text/plain": [
       "1.0"
      ]
     },
     "execution_count": 15,
     "metadata": {},
     "output_type": "execute_result"
    }
   ],
   "source": [
    "y_pred_test = merged_model.predict([X_image_test, X_feat_test])\n",
    "\n",
    "y_pred_test = np.argmax(y_pred_test, axis=1)\n",
    "\n",
    "Y_image_test = np.argmax(Y_image_test, axis=1)\n",
    "\n",
    "accuracy_score(Y_image_test, y_pred_test)"
   ]
  },
  {
   "cell_type": "markdown",
   "metadata": {},
   "source": [
    "### Create and Train Baseline model for 10 epochs"
   ]
  },
  {
   "cell_type": "code",
   "execution_count": 22,
   "metadata": {},
   "outputs": [
    {
     "name": "stdout",
     "output_type": "stream",
     "text": [
      "Model: \"model_4\"\n",
      "_________________________________________________________________\n",
      "Layer (type)                 Output Shape              Param #   \n",
      "=================================================================\n",
      "input_1 (InputLayer)         (None, 96, 96, 3)         0         \n",
      "_________________________________________________________________\n",
      "conv2d_7 (Conv2D)            (None, 94, 94, 64)        1792      \n",
      "_________________________________________________________________\n",
      "max_pooling2d_7 (MaxPooling2 (None, 47, 47, 64)        0         \n",
      "_________________________________________________________________\n",
      "conv2d_8 (Conv2D)            (None, 45, 45, 64)        36928     \n",
      "_________________________________________________________________\n",
      "max_pooling2d_8 (MaxPooling2 (None, 22, 22, 64)        0         \n",
      "_________________________________________________________________\n",
      "flatten_4 (Flatten)          (None, 30976)             0         \n",
      "_________________________________________________________________\n",
      "dropout_4 (Dropout)          (None, 30976)             0         \n",
      "_________________________________________________________________\n",
      "dense_7 (Dense)              (None, 64)                1982528   \n",
      "_________________________________________________________________\n",
      "dense_8 (Dense)              (None, 2)                 130       \n",
      "=================================================================\n",
      "Total params: 2,021,378\n",
      "Trainable params: 2,021,378\n",
      "Non-trainable params: 0\n",
      "_________________________________________________________________\n",
      "Train on 750 samples, validate on 250 samples\n",
      "Epoch 1/10\n",
      "750/750 [==============================] - 9s 12ms/step - loss: 0.3679 - acc: 0.8187 - val_loss: 0.0067 - val_acc: 1.0000\n",
      "Epoch 2/10\n",
      "750/750 [==============================] - 9s 12ms/step - loss: 0.0011 - acc: 1.0000 - val_loss: 5.6899e-05 - val_acc: 1.0000\n",
      "Epoch 3/10\n",
      "750/750 [==============================] - 9s 12ms/step - loss: 1.1476e-04 - acc: 1.0000 - val_loss: 3.6829e-05 - val_acc: 1.0000\n",
      "Epoch 4/10\n",
      "750/750 [==============================] - 10s 13ms/step - loss: 6.0353e-05 - acc: 1.0000 - val_loss: 5.0331e-05 - val_acc: 1.0000\n",
      "Epoch 5/10\n",
      "750/750 [==============================] - 9s 12ms/step - loss: 7.6470e-05 - acc: 1.0000 - val_loss: 2.9109e-05 - val_acc: 1.0000\n",
      "Epoch 6/10\n",
      "750/750 [==============================] - 9s 12ms/step - loss: 3.0557e-05 - acc: 1.0000 - val_loss: 2.0167e-05 - val_acc: 1.0000\n",
      "Epoch 7/10\n",
      "750/750 [==============================] - 10s 13ms/step - loss: 1.9997e-05 - acc: 1.0000 - val_loss: 1.8678e-05 - val_acc: 1.0000\n",
      "Epoch 8/10\n",
      "750/750 [==============================] - 10s 13ms/step - loss: 1.5725e-05 - acc: 1.0000 - val_loss: 1.3135e-05 - val_acc: 1.0000\n",
      "Epoch 9/10\n",
      "750/750 [==============================] - 10s 14ms/step - loss: 1.0019e-05 - acc: 1.0000 - val_loss: 1.2515e-05 - val_acc: 1.0000\n",
      "Epoch 10/10\n",
      "750/750 [==============================] - 11s 14ms/step - loss: 1.2464e-05 - acc: 1.0000 - val_loss: 1.1964e-05 - val_acc: 1.0000\n"
     ]
    }
   ],
   "source": [
    "model = baseline_model(image_input)\n",
    "historyBaseline = model.fit(X_image_train, Y_image_train, epochs=10, validation_split=0.25)"
   ]
  },
  {
   "cell_type": "code",
   "execution_count": 19,
   "metadata": {},
   "outputs": [
    {
     "data": {
      "image/png": "[encoded data removed]",
      "text/plain": [
       "<Figure size 432x288 with 1 Axes>"
      ]
     },
     "metadata": {},
     "output_type": "display_data"
    }
   ],
   "source": [
    "epochs = 10\n",
    "plot_losses(epochs, historyBaseline)"
   ]
  },
  {
   "cell_type": "markdown",
   "metadata": {},
   "source": [
    "### Accuracy on Test set"
   ]
  },
  {
   "cell_type": "code",
   "execution_count": 21,
   "metadata": {},
   "outputs": [
    {
     "data": {
      "text/plain": [
       "1.0"
      ]
     },
     "execution_count": 21,
     "metadata": {},
     "output_type": "execute_result"
    }
   ],
   "source": [
    "y_pred_test_baseline = model.predict(X_image_test)\n",
    "\n",
    "y_pred_test_baseline = np.argmax(y_pred_test_baseline, axis=1)\n",
    "\n",
    "accuracy_score(Y_image_test, y_pred_test_baseline)"
   ]
  },
  {
   "cell_type": "markdown",
   "metadata": {},
   "source": [
    "### Test Model on a Diferent Dataset"
   ]
  },
  {
   "cell_type": "code",
   "execution_count": 59,
   "metadata": {},
   "outputs": [],
   "source": [
    "img_path = \"C:\\\\Users\\\\mihir\\\\Machine Learning\\\\Project\\\\Face_Mask_Detection\\\\Test_Data\\\\dataset\"\n",
    "\n",
    "new_images = read_image_dataset(img_path)\n",
    "\n",
    "new_X_image, new_X_feat, new_T = create_dataset(new_images)"
   ]
  },
  {
   "cell_type": "code",
   "execution_count": 77,
   "metadata": {},
   "outputs": [],
   "source": [
    "y_pred_test = merged_model.predict(new_X_image)\n",
    "\n",
    "y_pred_test = np.argmax(y_pred_test, axis=1)\n",
    "\n",
    "Y_image_test = np.argmax(new_T, axis=1)\n",
    "\n",
    "accuracy_score(Y_image_test, y_pred_test)"
   ]
  },
  {
   "cell_type": "markdown",
   "metadata": {},
   "source": [
    "### Save Models"
   ]
  },
  {
   "cell_type": "code",
   "execution_count": null,
   "metadata": {},
   "outputs": [],
   "source": [
    "model.save(\"Model_1.h5\")"
   ]
  },
  {
   "cell_type": "code",
   "execution_count": null,
   "metadata": {},
   "outputs": [],
   "source": [
    "merged_model.save(\"MergedModel_1.h5\")"
   ]
  },
  {
   "cell_type": "markdown",
   "metadata": {},
   "source": [
    "### Testing Model on Live Video using Webcam"
   ]
  },
  {
   "cell_type": "code",
   "execution_count": 82,
   "metadata": {},
   "outputs": [],
   "source": [
    "import cv2\n",
    "import numpy as np\n",
    "from keras.models import load_model\n",
    "\n",
    "model=load_model(\"./MergedModel_1.h5\")\n",
    "results={0:'without mask',1:'mask'}\n",
    "GR_dict={0:(0,0,255),1:(0,255,0)}\n",
    "rect_size = 4\n",
    "cap = cv2.VideoCapture(0) \n",
    "haarcascade = cv2.CascadeClassifier(cv2.data.haarcascades + 'haarcascade_frontalface_default.xml')\n",
    "while True:\n",
    "    (rval, im) = cap.read()\n",
    "    im=cv2.flip(im,1,1) \n",
    "    img_gray = cv2.cvtColor(im, cv2.COLOR_BGR2GRAY)\n",
    "    rerect_size = cv2.resize(im, (im.shape[1] // rect_size, im.shape[0] // rect_size))\n",
    "    faces = haarcascade.detectMultiScale(rerect_size)\n",
    "    # Create cascade classifiers\n",
    "    face_cascade, eye_cascade, nose_cascade, mouth_cascade = get_cascades()\n",
    "\n",
    "    # Detect eys, nose and mouth in image\n",
    "    eyes = eye_cascade.detectMultiScale(img_gray, 1.2, 4)\n",
    "    nose = nose_cascade.detectMultiScale(img_gray, 1.3, 5)\n",
    "    mouth = mouth_cascade.detectMultiScale(img_gray, 1.5, 11)\n",
    "    \n",
    "    x_feat = []\n",
    "    if len(eyes) > 0:\n",
    "        x_feat.append(1)\n",
    "    else:\n",
    "        x_feat.append(0)\n",
    "\n",
    "\n",
    "    if len(nose) > 0:\n",
    "        x_feat.append(1)\n",
    "    else:\n",
    "        x_feat.append(0)\n",
    "\n",
    "\n",
    "    if len(mouth) > 0:\n",
    "        x_feat.append(1)\n",
    "    else:\n",
    "        x_feat.append(0)\n",
    "    \n",
    "    x_feat = np.array(x_feat).reshape(1, 3)\n",
    "    for f in faces:\n",
    "        (x, y, w, h) = [v * rect_size for v in f] \n",
    "        \n",
    "        face_img = im[y:y+h, x:x+w]\n",
    "        rerect_sized=cv2.resize(face_img,(96,96))\n",
    "        normalized=rerect_sized/255.0\n",
    "        reshaped=np.reshape(normalized,(1,96,96,3))\n",
    "        reshaped = np.vstack([reshaped])\n",
    "        result=model.predict([reshaped, x_feat])\n",
    "        \n",
    "        label=np.argmax(result,axis=1)[0]\n",
    "      \n",
    "        cv2.rectangle(im,(x,y),(x+w,y+h),GR_dict[label],2)\n",
    "        cv2.rectangle(im,(x,y-40),(x+w,y),GR_dict[label],-1)\n",
    "        cv2.putText(im, results[label], (x, y-10),cv2.FONT_HERSHEY_SIMPLEX,0.8,(255,255,255),2)\n",
    "    cv2.imshow('LIVE',   im)\n",
    "    key = cv2.waitKey(10)\n",
    "    \n",
    "    if key == 27: \n",
    "        break\n",
    "cap.release()\n",
    "cv2.destroyAllWindows()"
   ]
  },
  {
   "cell_type": "code",
   "execution_count": null,
   "metadata": {},
   "outputs": [],
   "source": []
  },
  {
   "cell_type": "code",
   "execution_count": null,
   "metadata": {},
   "outputs": [],
   "source": []
  },
  {
   "cell_type": "code",
   "execution_count": null,
   "metadata": {},
   "outputs": [],
   "source": []
  },
  {
   "cell_type": "code",
   "execution_count": null,
   "metadata": {},
   "outputs": [],
   "source": []
  },
  {
   "cell_type": "code",
   "execution_count": 62,
   "metadata": {},
   "outputs": [],
   "source": []
  },
  {
   "cell_type": "code",
   "execution_count": null,
   "metadata": {},
   "outputs": [],
   "source": []
  },
  {
   "cell_type": "code",
   "execution_count": null,
   "metadata": {},
   "outputs": [],
   "source": []
  },
  {
   "cell_type": "code",
   "execution_count": null,
   "metadata": {},
   "outputs": [],
   "source": []
  },
  {
   "cell_type": "code",
   "execution_count": null,
   "metadata": {},
   "outputs": [],
   "source": []
  },
  {
   "cell_type": "code",
   "execution_count": null,
   "metadata": {},
   "outputs": [],
   "source": []
  },
  {
   "cell_type": "code",
   "execution_count": null,
   "metadata": {},
   "outputs": [],
   "source": []
  },
  {
   "cell_type": "code",
   "execution_count": null,
   "metadata": {},
   "outputs": [],
   "source": []
  },
  {
   "cell_type": "code",
   "execution_count": null,
   "metadata": {},
   "outputs": [],
   "source": []
  },
  {
   "cell_type": "code",
   "execution_count": null,
   "metadata": {},
   "outputs": [],
   "source": []
  },
  {
   "cell_type": "code",
   "execution_count": null,
   "metadata": {},
   "outputs": [],
   "source": []
  },
  {
   "cell_type": "code",
   "execution_count": null,
   "metadata": {},
   "outputs": [],
   "source": []
  },
  {
   "cell_type": "code",
   "execution_count": null,
   "metadata": {},
   "outputs": [],
   "source": []
  },
  {
   "cell_type": "code",
   "execution_count": null,
   "metadata": {},
   "outputs": [],
   "source": []
  },
  {
   "cell_type": "code",
   "execution_count": null,
   "metadata": {},
   "outputs": [],
   "source": []
  },
  {
   "cell_type": "code",
   "execution_count": null,
   "metadata": {},
   "outputs": [],
   "source": []
  },
  {
   "cell_type": "code",
   "execution_count": null,
   "metadata": {},
   "outputs": [],
   "source": []
  },
  {
   "cell_type": "code",
   "execution_count": null,
   "metadata": {},
   "outputs": [],
   "source": []
  },
  {
   "cell_type": "code",
   "execution_count": null,
   "metadata": {},
   "outputs": [],
   "source": []
  },
  {
   "cell_type": "code",
   "execution_count": null,
   "metadata": {},
   "outputs": [],
   "source": []
  },
  {
   "cell_type": "code",
   "execution_count": null,
   "metadata": {},
   "outputs": [],
   "source": []
  },
  {
   "cell_type": "code",
   "execution_count": null,
   "metadata": {},
   "outputs": [],
   "source": []
  },
  {
   "cell_type": "code",
   "execution_count": null,
   "metadata": {},
   "outputs": [],
   "source": [
    "\n"
   ]
  },
  {
   "cell_type": "code",
   "execution_count": null,
   "metadata": {},
   "outputs": [],
   "source": []
  },
  {
   "cell_type": "code",
   "execution_count": null,
   "metadata": {},
   "outputs": [],
   "source": []
  },
  {
   "cell_type": "code",
   "execution_count": null,
   "metadata": {},
   "outputs": [],
   "source": []
  },
  {
   "cell_type": "code",
   "execution_count": null,
   "metadata": {},
   "outputs": [],
   "source": []
  },
  {
   "cell_type": "code",
   "execution_count": null,
   "metadata": {},
   "outputs": [],
   "source": []
  },
  {
   "cell_type": "code",
   "execution_count": null,
   "metadata": {},
   "outputs": [],
   "source": []
  },
  {
   "cell_type": "code",
   "execution_count": null,
   "metadata": {},
   "outputs": [],
   "source": []
  },
  {
   "cell_type": "code",
   "execution_count": null,
   "metadata": {},
   "outputs": [],
   "source": []
  }
 ],
 "metadata": {
  "kernelspec": {
   "display_name": "cv_env",
   "language": "python",
   "name": "cv_env"
  },
  "language_info": {
   "codemirror_mode": {
    "name": "ipython",
    "version": 3
   },
   "file_extension": ".py",
   "mimetype": "text/x-python",
   "name": "python",
   "nbconvert_exporter": "python",
   "pygments_lexer": "ipython3",
   "version": "3.7.4"
  }
 },
 "nbformat": 4,
 "nbformat_minor": 4
}
